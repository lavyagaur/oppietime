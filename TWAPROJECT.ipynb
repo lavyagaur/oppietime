{
  "nbformat": 4,
  "nbformat_minor": 0,
  "metadata": {
    "colab": {
      "provenance": [],
      "gpuType": "T4",
      "authorship_tag": "ABX9TyM2tEZCk/qr1q1N9DHwkIWG",
      "include_colab_link": true
    },
    "kernelspec": {
      "name": "python3",
      "display_name": "Python 3"
    },
    "language_info": {
      "name": "python"
    },
    "accelerator": "GPU"
  },
  "cells": [
    {
      "cell_type": "markdown",
      "metadata": {
        "id": "view-in-github",
        "colab_type": "text"
      },
      "source": [
        "<a href=\"https://colab.research.google.com/github/lavyagaur/oppietime/blob/main/TWAPROJECT.ipynb\" target=\"_parent\"><img src=\"https://colab.research.google.com/assets/colab-badge.svg\" alt=\"Open In Colab\"/></a>"
      ]
    },
    {
      "cell_type": "code",
      "execution_count": 63,
      "metadata": {
        "colab": {
          "base_uri": "https://localhost:8080/"
        },
        "id": "l5VIpKwj7r-G",
        "outputId": "3bb1317e-139b-4db1-f6ed-637e1d1be068"
      },
      "outputs": [
        {
          "output_type": "stream",
          "name": "stdout",
          "text": [
            "Requirement already satisfied: numpy in /usr/local/lib/python3.10/dist-packages (1.26.4)\n",
            "Requirement already satisfied: pandas in /usr/local/lib/python3.10/dist-packages (2.2.2)\n",
            "Requirement already satisfied: scikit-learn in /usr/local/lib/python3.10/dist-packages (1.5.2)\n",
            "Requirement already satisfied: matplotlib in /usr/local/lib/python3.10/dist-packages (3.8.0)\n",
            "Requirement already satisfied: python-dateutil>=2.8.2 in /usr/local/lib/python3.10/dist-packages (from pandas) (2.8.2)\n",
            "Requirement already satisfied: pytz>=2020.1 in /usr/local/lib/python3.10/dist-packages (from pandas) (2024.2)\n",
            "Requirement already satisfied: tzdata>=2022.7 in /usr/local/lib/python3.10/dist-packages (from pandas) (2024.2)\n",
            "Requirement already satisfied: scipy>=1.6.0 in /usr/local/lib/python3.10/dist-packages (from scikit-learn) (1.13.1)\n",
            "Requirement already satisfied: joblib>=1.2.0 in /usr/local/lib/python3.10/dist-packages (from scikit-learn) (1.4.2)\n",
            "Requirement already satisfied: threadpoolctl>=3.1.0 in /usr/local/lib/python3.10/dist-packages (from scikit-learn) (3.5.0)\n",
            "Requirement already satisfied: contourpy>=1.0.1 in /usr/local/lib/python3.10/dist-packages (from matplotlib) (1.3.0)\n",
            "Requirement already satisfied: cycler>=0.10 in /usr/local/lib/python3.10/dist-packages (from matplotlib) (0.12.1)\n",
            "Requirement already satisfied: fonttools>=4.22.0 in /usr/local/lib/python3.10/dist-packages (from matplotlib) (4.54.1)\n",
            "Requirement already satisfied: kiwisolver>=1.0.1 in /usr/local/lib/python3.10/dist-packages (from matplotlib) (1.4.7)\n",
            "Requirement already satisfied: packaging>=20.0 in /usr/local/lib/python3.10/dist-packages (from matplotlib) (24.1)\n",
            "Requirement already satisfied: pillow>=6.2.0 in /usr/local/lib/python3.10/dist-packages (from matplotlib) (10.4.0)\n",
            "Requirement already satisfied: pyparsing>=2.3.1 in /usr/local/lib/python3.10/dist-packages (from matplotlib) (3.2.0)\n",
            "Requirement already satisfied: six>=1.5 in /usr/local/lib/python3.10/dist-packages (from python-dateutil>=2.8.2->pandas) (1.16.0)\n"
          ]
        }
      ],
      "source": [
        "# Install necessary packages\n",
        "!pip install numpy pandas scikit-learn matplotlib"
      ]
    },
    {
      "cell_type": "code",
      "source": [
        "!pip install DeepMIMO"
      ],
      "metadata": {
        "colab": {
          "base_uri": "https://localhost:8080/"
        },
        "id": "ALJw7Y18Ar9a",
        "outputId": "c189d3b3-9256-48cd-8ea5-054f3c260cba"
      },
      "execution_count": 64,
      "outputs": [
        {
          "output_type": "stream",
          "name": "stdout",
          "text": [
            "Requirement already satisfied: DeepMIMO in /usr/local/lib/python3.10/dist-packages (1.0)\n",
            "Requirement already satisfied: numpy in /usr/local/lib/python3.10/dist-packages (from DeepMIMO) (1.26.4)\n",
            "Requirement already satisfied: scipy in /usr/local/lib/python3.10/dist-packages (from DeepMIMO) (1.13.1)\n",
            "Requirement already satisfied: tqdm in /usr/local/lib/python3.10/dist-packages (from DeepMIMO) (4.66.6)\n"
          ]
        }
      ]
    },
    {
      "cell_type": "code",
      "source": [
        "!pip install numpy scipy matplotlib h5py"
      ],
      "metadata": {
        "id": "68OqZz19B7sU",
        "colab": {
          "base_uri": "https://localhost:8080/"
        },
        "outputId": "c4f8dbf5-7ea1-4484-e9a9-db20785b56c7"
      },
      "execution_count": 65,
      "outputs": [
        {
          "output_type": "stream",
          "name": "stdout",
          "text": [
            "Requirement already satisfied: numpy in /usr/local/lib/python3.10/dist-packages (1.26.4)\n",
            "Requirement already satisfied: scipy in /usr/local/lib/python3.10/dist-packages (1.13.1)\n",
            "Requirement already satisfied: matplotlib in /usr/local/lib/python3.10/dist-packages (3.8.0)\n",
            "Requirement already satisfied: h5py in /usr/local/lib/python3.10/dist-packages (3.12.1)\n",
            "Requirement already satisfied: contourpy>=1.0.1 in /usr/local/lib/python3.10/dist-packages (from matplotlib) (1.3.0)\n",
            "Requirement already satisfied: cycler>=0.10 in /usr/local/lib/python3.10/dist-packages (from matplotlib) (0.12.1)\n",
            "Requirement already satisfied: fonttools>=4.22.0 in /usr/local/lib/python3.10/dist-packages (from matplotlib) (4.54.1)\n",
            "Requirement already satisfied: kiwisolver>=1.0.1 in /usr/local/lib/python3.10/dist-packages (from matplotlib) (1.4.7)\n",
            "Requirement already satisfied: packaging>=20.0 in /usr/local/lib/python3.10/dist-packages (from matplotlib) (24.1)\n",
            "Requirement already satisfied: pillow>=6.2.0 in /usr/local/lib/python3.10/dist-packages (from matplotlib) (10.4.0)\n",
            "Requirement already satisfied: pyparsing>=2.3.1 in /usr/local/lib/python3.10/dist-packages (from matplotlib) (3.2.0)\n",
            "Requirement already satisfied: python-dateutil>=2.7 in /usr/local/lib/python3.10/dist-packages (from matplotlib) (2.8.2)\n",
            "Requirement already satisfied: six>=1.5 in /usr/local/lib/python3.10/dist-packages (from python-dateutil>=2.7->matplotlib) (1.16.0)\n"
          ]
        }
      ]
    },
    {
      "cell_type": "code",
      "source": [
        "!git clone https://github.com/lavyagaur/DeepMIMO-python.git"
      ],
      "metadata": {
        "colab": {
          "base_uri": "https://localhost:8080/"
        },
        "id": "yJghb5JxbT7a",
        "outputId": "d0d28fd1-1376-46e0-8218-fd10393fd3ed"
      },
      "execution_count": 66,
      "outputs": [
        {
          "output_type": "stream",
          "name": "stdout",
          "text": [
            "Cloning into 'DeepMIMO-python'...\n",
            "remote: Enumerating objects: 183, done.\u001b[K\n",
            "remote: Counting objects: 100% (183/183), done.\u001b[K\n",
            "remote: Compressing objects: 100% (101/101), done.\u001b[K\n",
            "remote: Total 183 (delta 93), reused 163 (delta 73), pack-reused 0 (from 0)\u001b[K\n",
            "Receiving objects: 100% (183/183), 392.56 KiB | 2.52 MiB/s, done.\n",
            "Resolving deltas: 100% (93/93), done.\n"
          ]
        }
      ]
    },
    {
      "cell_type": "code",
      "source": [
        "!ls"
      ],
      "metadata": {
        "colab": {
          "base_uri": "https://localhost:8080/"
        },
        "id": "W0AVtgflceC3",
        "outputId": "6dd4a280-f0c1-49f8-9c8c-172d609cf605"
      },
      "execution_count": 67,
      "outputs": [
        {
          "output_type": "stream",
          "name": "stdout",
          "text": [
            "DeepMIMO-python  example.py  examples  LICENSE.md  README.md  requirements.txt\tsetup.py  src\n"
          ]
        }
      ]
    },
    {
      "cell_type": "code",
      "source": [
        "%cd DeepMIMO-python"
      ],
      "metadata": {
        "colab": {
          "base_uri": "https://localhost:8080/"
        },
        "id": "kUzSefq1c3Se",
        "outputId": "4cddf6d1-c87e-4a9d-a7d9-3582dba9da5c"
      },
      "execution_count": 68,
      "outputs": [
        {
          "output_type": "stream",
          "name": "stdout",
          "text": [
            "/content/DeepMIMO-python/DeepMIMO-python\n"
          ]
        }
      ]
    },
    {
      "cell_type": "code",
      "source": [
        "!ls"
      ],
      "metadata": {
        "colab": {
          "base_uri": "https://localhost:8080/"
        },
        "id": "2k4DgJT0c5Uw",
        "outputId": "144ca906-7474-49f6-9e1b-c4785b0823e7"
      },
      "execution_count": 69,
      "outputs": [
        {
          "output_type": "stream",
          "name": "stdout",
          "text": [
            "example.py  examples  LICENSE.md  README.md  requirements.txt  setup.py  src\n"
          ]
        }
      ]
    },
    {
      "cell_type": "code",
      "source": [
        "!ls /content/"
      ],
      "metadata": {
        "colab": {
          "base_uri": "https://localhost:8080/"
        },
        "id": "VTpptJSwmuXD",
        "outputId": "1e4d5937-3287-4ea6-ec90-be7f8d39efba"
      },
      "execution_count": 70,
      "outputs": [
        {
          "output_type": "stream",
          "name": "stdout",
          "text": [
            "dataset  DeepMIMO-python  drive  sample_data\n"
          ]
        }
      ]
    },
    {
      "cell_type": "code",
      "source": [
        "from google.colab import drive\n",
        "drive.mount('/content/drive')"
      ],
      "metadata": {
        "colab": {
          "base_uri": "https://localhost:8080/"
        },
        "id": "RbG58qNSJKmd",
        "outputId": "9638aea0-25ff-448d-c8a9-291ba4583fa0"
      },
      "execution_count": 71,
      "outputs": [
        {
          "output_type": "stream",
          "name": "stdout",
          "text": [
            "Drive already mounted at /content/drive; to attempt to forcibly remount, call drive.mount(\"/content/drive\", force_remount=True).\n"
          ]
        }
      ]
    },
    {
      "cell_type": "code",
      "source": [
        "scenarios_path = '/content/drive/My Drive/scenarios'"
      ],
      "metadata": {
        "id": "EtiHq1v3JV9u"
      },
      "execution_count": 72,
      "outputs": []
    },
    {
      "cell_type": "code",
      "source": [
        "!ls \"/content/drive/My Drive\""
      ],
      "metadata": {
        "colab": {
          "base_uri": "https://localhost:8080/"
        },
        "id": "k-w70ME8JfCy",
        "outputId": "210a568b-a314-4c31-abdc-532f14d63fbd"
      },
      "execution_count": 73,
      "outputs": [
        {
          "output_type": "stream",
          "name": "stdout",
          "text": [
            " 17254374617082622768996672203157.jpg\n",
            " 32274CA-015-D20211123T131300M012278.json\n",
            " 32274CA-015-D20211123T131400M050226.json\n",
            " 32274CA-015-D20211123T131500M053479.json\n",
            " 32274CA-015-D20211123T132300M011437.json\n",
            " 32274CA-015-D20211123T132400M058863.json\n",
            " 32274CA-015-D20211123T133000M028048.json\n",
            " 32274CF-dell-latitude-D20211125T150800M004475.json\n",
            " 32274CF-dell-latitude-D20211125T150900M059227.json\n",
            " 32274CF-dell-latitude-D20211125T151000M056507.json\n",
            " 32274CF-dell-latitude-D20211125T152000M052549.json\n",
            " 32274CF-dell-latitude-D20211125T152100M004125.json\n",
            " 32274CF-dell-latitude-D20211125T152400M046037.json\n",
            " 32274CF-dell-latitude-D20211201T191100M024240.json\n",
            " 32274CF-dell-latitude-D20211201T191200M056171.json\n",
            " 32274CF-dell-latitude-D20211201T191300M048183.json\n",
            "'Adobe Scan 10-Sept-2024-compressed.pdf'\n",
            "'AiShala_Summer Training.pdf'\n",
            "'CamScanner 08-07-2020 11.25.09.pdf'\n",
            " Classroom\n",
            "'CM file.gdoc'\n",
            "'Colab Notebooks'\n",
            " CONTENTSNATCONF.gdoc\n",
            "'Copy of Batch 2026 Complete class details.xlsx'\n",
            "'Copy of Draftingprocess.gdoc'\n",
            "'DCN-LAB FILE.docx'\n",
            "'Dpp 2 Final.gdoc'\n",
            " Draftingprocess.gdoc\n",
            "'Getting started.pdf'\n",
            " job_postings.csv\n",
            " JOBPOSTINGS.zip\n",
            " job_skills.csv\n",
            " job_summary.csv\n",
            "'KMC imp'\n",
            "'lavya gaur delegate fee.pdf'\n",
            " projectproposal_mAIstros.pdf\n",
            " projReportFurther.docx\n",
            "'Rotation & Solids Complete 2020.gdoc'\n",
            " scenarios\n",
            "'Simplify the following pdf provided in form of link :https:  openreview.net pdf?id=BydjJte0-.gdoc'\n",
            " SustainabilitySpeechDraft1.gdoc\n",
            "'Test 2d -6.gdoc'\n",
            "'Untitled Jam.gjam'\n",
            "'updated ns3 installation steps on ubuntu new (1).gdoc'\n",
            "'updated ns3 installation steps on ubuntu new (2).gdoc'\n",
            "'updated ns3 installation steps on ubuntu new.gdoc'\n",
            " VLSI_Design_methodologies.pdf\n"
          ]
        }
      ]
    },
    {
      "cell_type": "code",
      "source": [
        "import os\n",
        "\n",
        "scenarios_path = '/content/drive/My Drive/scenarios'\n",
        "if os.path.exists(scenarios_path):\n",
        "    print(\"Scenarios folder exists at:\", scenarios_path)\n",
        "else:\n",
        "    print(\"Scenarios folder not found.\")"
      ],
      "metadata": {
        "colab": {
          "base_uri": "https://localhost:8080/"
        },
        "id": "KMQGGrGXJyAW",
        "outputId": "8d0ceecb-a363-4a58-bc5e-eedf73a704ab"
      },
      "execution_count": 74,
      "outputs": [
        {
          "output_type": "stream",
          "name": "stdout",
          "text": [
            "Scenarios folder exists at: /content/drive/My Drive/scenarios\n"
          ]
        }
      ]
    },
    {
      "cell_type": "code",
      "source": [
        "if os.path.exists(scenarios_path):\n",
        "    print(\"Scenarios folder contents:\", os.listdir(scenarios_path))"
      ],
      "metadata": {
        "colab": {
          "base_uri": "https://localhost:8080/"
        },
        "id": "Rtg2MldTJ_32",
        "outputId": "d13d16b6-169a-457e-9d5c-02aa1b55676f"
      },
      "execution_count": 75,
      "outputs": [
        {
          "output_type": "stream",
          "name": "stdout",
          "text": [
            "Scenarios folder contents: ['O1_28.1.CIR.BSBS.mat', 'O1_28.1.CIR.mat', 'O1_28.1.DoA.mat', 'O1_28.1.DoA.BSBS.mat', 'O1_28.1.DoD.mat', 'O1_28.1.LoS.BSBS.mat', 'O1_28.2.CIR.mat', 'O1_28.1.PL.mat', 'O1_28.2.CIR.BSBS.mat', 'O1_28.1.DoD.BSBS.mat', 'O1_28.1.LoS.mat', 'O1_28.1.PL.BSBS.mat', 'O1_28.2.LoS.BSBS.mat', 'O1_28.2.LoS.mat', 'O1_28.2.DoA.mat', 'O1_28.2.DoA.BSBS.mat', 'O1_28.2.DoD.BSBS.mat', 'O1_28.2.DoD.mat', 'O1_28.2.PL.mat', 'O1_28.2.PL.BSBS.mat', 'O1_28.3.CIR.mat', 'O1_28.3.CIR.BSBS.mat', 'O1_28.3.DoA.mat', 'O1_28.3.DoA.BSBS.mat', 'O1_28.3.LoS.mat', 'O1_28.4.CIR.mat', 'O1_28.3.DoD.BSBS.mat', 'O1_28.4.CIR.BSBS.mat', 'O1_28.3.PL.mat', 'O1_28.3.DoD.mat', 'O1_28.3.LoS.BSBS.mat', 'O1_28.3.PL.BSBS.mat', 'O1_28.4.DoA.BSBS.mat', 'O1_28.4.DoA.mat', 'O1_28.4.DoD.BSBS.mat', 'O1_28.4.LoS.BSBS.mat', 'O1_28.4.PL.mat', 'O1_28.4.DoD.mat', 'O1_28.4.PL.BSBS.mat', 'O1_28.4.LoS.mat', 'O1_28.5.DoA.BSBS.mat', 'O1_28.5.CIR.BSBS.mat', 'O1_28.5.CIR.mat', 'O1_28.5.DoA.mat', 'O1_28.5.LoS.BSBS.mat', 'O1_28.5.DoD.BSBS.mat', 'O1_28.5.LoS.mat', 'O1_28.5.PL.BSBS.mat', 'O1_28.5.DoD.mat', 'O1_28.5.PL.mat', 'O1_28.6.CIR.mat', 'O1_28.6.CIR.BSBS.mat', 'O1_28.6.DoA.BSBS.mat', 'O1_28.6.DoA.mat', 'O1_28.6.DoD.mat', 'O1_28.6.LoS.mat', 'O1_28.6.PL.mat', 'O1_28.6.LoS.BSBS.mat', 'O1_28.6.DoD.BSBS.mat', 'O1_28.6.PL.BSBS.mat', 'O1_28.7.CIR.mat', 'O1_28.7.CIR.BSBS.mat', 'O1_28.7.DoD.mat', 'O1_28.7.DoA.BSBS.mat', 'O1_28.7.DoA.mat', 'O1_28.7.PL.BSBS.mat', 'O1_28.7.LoS.mat', 'O1_28.7.PL.mat', 'O1_28.7.DoD.BSBS.mat', 'O1_28.7.LoS.BSBS.mat', 'O1_28.8.DoA.mat', 'O1_28.8.CIR.BSBS.mat', 'O1_28.8.CIR.mat', 'O1_28.8.DoA.BSBS.mat', 'O1_28.8.LoS.mat', 'O1_28.8.DoD.BSBS.mat', 'O1_28.8.DoD.mat', 'O1_28.8.PL.mat', 'O1_28.8.PL.BSBS.mat', 'O1_28.8.LoS.BSBS.mat', 'O1_28.9.CIR.BSBS.mat', 'O1_28.9.CIR.mat', 'O1_28.9.DoA.BSBS.mat', 'O1_28.9.DoD.mat', 'O1_28.9.DoA.mat', 'O1_28.9.PL.mat', 'O1_28.9.LoS.mat', 'O1_28.9.LoS.BSBS.mat', 'O1_28.9.DoD.BSBS.mat', 'O1_28.9.PL.BSBS.mat', 'O1_28.10.CIR.mat', 'O1_28.10.CIR.BSBS.mat', 'O1_28.10.DoA.BSBS.mat', 'O1_28.10.DoA.mat', 'O1_28.10.LoS.mat', 'O1_28.10.PL.mat', 'O1_28.10.PL.BSBS.mat', 'O1_28.10.DoD.BSBS.mat', 'O1_28.10.LoS.BSBS.mat', 'O1_28.10.DoD.mat', 'O1_28.11.CIR.BSBS.mat', 'O1_28.11.DoA.BSBS.mat', 'O1_28.11.DoA.mat', 'O1_28.11.CIR.mat', 'O1_28.11.DoD.BSBS.mat', 'O1_28.11.LoS.BSBS.mat', 'O1_28.11.DoD.mat', 'O1_28.11.LoS.mat', 'O1_28.12.CIR.BSBS.mat', 'O1_28.12.CIR.mat', 'O1_28.11.PL.mat', 'O1_28.11.PL.BSBS.mat', 'O1_28.12.PL.mat', 'O1_28.12.DoD.BSBS.mat', 'O1_28.12.DoD.mat', 'O1_28.12.DoA.BSBS.mat', 'O1_28.12.LoS.mat', 'O1_28.12.PL.BSBS.mat', 'O1_28.12.DoA.mat', 'O1_28.12.LoS.BSBS.mat', 'O1_28.13.CIR.mat', 'O1_28.13.CIR.BSBS.mat', 'O1_28.13.DoA.BSBS.mat', 'O1_28.13.DoA.mat', 'O1_28.13.LoS.BSBS.mat', 'O1_28.13.LoS.mat', 'O1_28.13.PL.mat', 'O1_28.13.DoD.mat', 'O1_28.13.PL.BSBS.mat', 'O1_28.13.DoD.BSBS.mat', 'O1_28.14.CIR.mat', 'O1_28.14.CIR.BSBS.mat', 'O1_28.14.PL.mat', 'O1_28.14.DoA.mat', 'O1_28.14.LoS.BSBS.mat', 'O1_28.14.DoD.mat', 'O1_28.14.DoA.BSBS.mat', 'O1_28.14.DoD.BSBS.mat', 'O1_28.14.LoS.mat', 'O1_28.14.PL.BSBS.mat', 'O1_28.15.CIR.mat', 'O1_28.15.DoA.BSBS.mat', 'O1_28.15.CIR.BSBS.mat', 'O1_28.15.DoA.mat', 'O1_28.15.DoD.BSBS.mat', 'O1_28.15.DoD.mat', 'O1_28.15.LoS.mat', 'O1_28.15.PL.BSBS.mat', 'O1_28.15.PL.mat', 'O1_28.15.LoS.BSBS.mat', 'O1_28.16.CIR.mat', 'O1_28.16.CIR.BSBS.mat', 'O1_28.16.DoA.BSBS.mat', 'O1_28.16.DoA.mat', 'O1_28.16.LoS.mat', 'O1_28.16.DoD.BSBS.mat', 'O1_28.16.LoS.BSBS.mat', 'O1_28.16.PL.mat', 'O1_28.16.DoD.mat', 'O1_28.16.PL.BSBS.mat', 'O1_28.17.CIR.BSBS.mat', 'O1_28.17.CIR.mat', 'O1_28.17.DoA.BSBS.mat', 'O1_28.17.DoA.mat', 'O1_28.17.DoD.mat', 'O1_28.17.LoS.mat', 'O1_28.17.DoD.BSBS.mat', 'O1_28.17.LoS.BSBS.mat', 'O1_28.17.PL.BSBS.mat', 'O1_28.17.PL.mat', 'O1_28.18.CIR.BSBS.mat', 'O1_28.18.CIR.mat', 'O1_28.18.DoA.mat', 'O1_28.18.DoA.BSBS.mat', 'O1_28.18.DoD.mat', 'O1_28.BSBS.TX_Loc.mat', 'O1_28.18.LoS.BSBS.mat', 'O1_28.18.DoD.BSBS.mat', 'O1_28.18.PL.mat', 'O1_28.18.PL.BSBS.mat', 'O1_28.params.mat', 'O1_28.18.LoS.mat', 'O1_28.BSBS.RX_Loc.mat', 'O1_28.BSBS.params.mat', 'O1_28.Loc.mat', 'O1_28.RX_Loc.mat', 'O1_28.TX_Loc.mat']\n"
          ]
        }
      ]
    },
    {
      "cell_type": "code",
      "source": [
        "!mkdir -p /content/dataset"
      ],
      "metadata": {
        "id": "KL2q3psrL41s"
      },
      "execution_count": 76,
      "outputs": []
    },
    {
      "cell_type": "code",
      "source": [
        "!ls /content/drive/MyDrive/"
      ],
      "metadata": {
        "colab": {
          "base_uri": "https://localhost:8080/"
        },
        "id": "A6G6BOlGM3Yq",
        "outputId": "d0272756-b502-4a71-b08b-4a621fddc5f0"
      },
      "execution_count": 77,
      "outputs": [
        {
          "output_type": "stream",
          "name": "stdout",
          "text": [
            " 17254374617082622768996672203157.jpg\n",
            " 32274CA-015-D20211123T131300M012278.json\n",
            " 32274CA-015-D20211123T131400M050226.json\n",
            " 32274CA-015-D20211123T131500M053479.json\n",
            " 32274CA-015-D20211123T132300M011437.json\n",
            " 32274CA-015-D20211123T132400M058863.json\n",
            " 32274CA-015-D20211123T133000M028048.json\n",
            " 32274CF-dell-latitude-D20211125T150800M004475.json\n",
            " 32274CF-dell-latitude-D20211125T150900M059227.json\n",
            " 32274CF-dell-latitude-D20211125T151000M056507.json\n",
            " 32274CF-dell-latitude-D20211125T152000M052549.json\n",
            " 32274CF-dell-latitude-D20211125T152100M004125.json\n",
            " 32274CF-dell-latitude-D20211125T152400M046037.json\n",
            " 32274CF-dell-latitude-D20211201T191100M024240.json\n",
            " 32274CF-dell-latitude-D20211201T191200M056171.json\n",
            " 32274CF-dell-latitude-D20211201T191300M048183.json\n",
            "'Adobe Scan 10-Sept-2024-compressed.pdf'\n",
            "'AiShala_Summer Training.pdf'\n",
            "'CamScanner 08-07-2020 11.25.09.pdf'\n",
            " Classroom\n",
            "'CM file.gdoc'\n",
            "'Colab Notebooks'\n",
            " CONTENTSNATCONF.gdoc\n",
            "'Copy of Batch 2026 Complete class details.xlsx'\n",
            "'Copy of Draftingprocess.gdoc'\n",
            "'DCN-LAB FILE.docx'\n",
            "'Dpp 2 Final.gdoc'\n",
            " Draftingprocess.gdoc\n",
            "'Getting started.pdf'\n",
            " job_postings.csv\n",
            " JOBPOSTINGS.zip\n",
            " job_skills.csv\n",
            " job_summary.csv\n",
            "'KMC imp'\n",
            "'lavya gaur delegate fee.pdf'\n",
            " projectproposal_mAIstros.pdf\n",
            " projReportFurther.docx\n",
            "'Rotation & Solids Complete 2020.gdoc'\n",
            " scenarios\n",
            "'Simplify the following pdf provided in form of link :https:  openreview.net pdf?id=BydjJte0-.gdoc'\n",
            " SustainabilitySpeechDraft1.gdoc\n",
            "'Test 2d -6.gdoc'\n",
            "'Untitled Jam.gjam'\n",
            "'updated ns3 installation steps on ubuntu new (1).gdoc'\n",
            "'updated ns3 installation steps on ubuntu new (2).gdoc'\n",
            "'updated ns3 installation steps on ubuntu new.gdoc'\n",
            " VLSI_Design_methodologies.pdf\n"
          ]
        }
      ]
    },
    {
      "cell_type": "code",
      "source": [
        "!cp -r /content/drive/MyDrive/scenarios /content/dataset/"
      ],
      "metadata": {
        "id": "J8XWXy9cNWla"
      },
      "execution_count": 78,
      "outputs": []
    },
    {
      "cell_type": "code",
      "source": [
        "!pip install --upgrade sionna tensorflow"
      ],
      "metadata": {
        "colab": {
          "base_uri": "https://localhost:8080/"
        },
        "id": "37pBimRZc1nl",
        "outputId": "0a40b09d-614d-4078-ef90-f40d59b60ce7"
      },
      "execution_count": 79,
      "outputs": [
        {
          "output_type": "stream",
          "name": "stdout",
          "text": [
            "Requirement already satisfied: sionna in /usr/local/lib/python3.10/dist-packages (0.19.0)\n",
            "Requirement already satisfied: tensorflow in /usr/local/lib/python3.10/dist-packages (2.15.1)\n",
            "Collecting tensorflow\n",
            "  Using cached tensorflow-2.18.0-cp310-cp310-manylinux_2_17_x86_64.manylinux2014_x86_64.whl.metadata (4.1 kB)\n",
            "Requirement already satisfied: numpy in /usr/local/lib/python3.10/dist-packages (from sionna) (1.26.4)\n",
            "Requirement already satisfied: matplotlib in /usr/local/lib/python3.10/dist-packages (from sionna) (3.8.0)\n",
            "Requirement already satisfied: scipy>=1.6.0 in /usr/local/lib/python3.10/dist-packages (from sionna) (1.13.1)\n",
            "Requirement already satisfied: importlib-resources in /usr/local/lib/python3.10/dist-packages (from sionna) (6.4.5)\n",
            "Requirement already satisfied: mitsuba>=3.2.0 in /usr/local/lib/python3.10/dist-packages (from sionna) (3.5.2)\n",
            "Requirement already satisfied: pythreejs>=2.4.2 in /usr/local/lib/python3.10/dist-packages (from sionna) (2.4.2)\n",
            "Requirement already satisfied: ipywidgets>=8.0.4 in /usr/local/lib/python3.10/dist-packages (from sionna) (8.0.5)\n",
            "Requirement already satisfied: ipydatawidgets==4.3.2 in /usr/local/lib/python3.10/dist-packages (from sionna) (4.3.2)\n",
            "Requirement already satisfied: jupyterlab-widgets==3.0.5 in /usr/local/lib/python3.10/dist-packages (from sionna) (3.0.5)\n",
            "Requirement already satisfied: traittypes>=0.2.0 in /usr/local/lib/python3.10/dist-packages (from ipydatawidgets==4.3.2->sionna) (0.2.1)\n",
            "Requirement already satisfied: absl-py>=1.0.0 in /usr/local/lib/python3.10/dist-packages (from tensorflow) (1.4.0)\n",
            "Requirement already satisfied: astunparse>=1.6.0 in /usr/local/lib/python3.10/dist-packages (from tensorflow) (1.6.3)\n",
            "Requirement already satisfied: flatbuffers>=23.5.26 in /usr/local/lib/python3.10/dist-packages (from tensorflow) (24.3.25)\n",
            "Requirement already satisfied: gast!=0.5.0,!=0.5.1,!=0.5.2,>=0.2.1 in /usr/local/lib/python3.10/dist-packages (from tensorflow) (0.6.0)\n",
            "Requirement already satisfied: google-pasta>=0.1.1 in /usr/local/lib/python3.10/dist-packages (from tensorflow) (0.2.0)\n",
            "Requirement already satisfied: h5py>=2.9.0 in /usr/local/lib/python3.10/dist-packages (from tensorflow) (3.12.1)\n",
            "Requirement already satisfied: libclang>=13.0.0 in /usr/local/lib/python3.10/dist-packages (from tensorflow) (18.1.1)\n",
            "Requirement already satisfied: ml-dtypes~=0.3.1 in /usr/local/lib/python3.10/dist-packages (from tensorflow) (0.3.2)\n",
            "Requirement already satisfied: opt-einsum>=2.3.2 in /usr/local/lib/python3.10/dist-packages (from tensorflow) (3.4.0)\n",
            "Requirement already satisfied: packaging in /usr/local/lib/python3.10/dist-packages (from tensorflow) (24.1)\n",
            "Requirement already satisfied: protobuf!=4.21.0,!=4.21.1,!=4.21.2,!=4.21.3,!=4.21.4,!=4.21.5,<5.0.0dev,>=3.20.3 in /usr/local/lib/python3.10/dist-packages (from tensorflow) (3.20.3)\n",
            "Requirement already satisfied: setuptools in /usr/local/lib/python3.10/dist-packages (from tensorflow) (75.1.0)\n",
            "Requirement already satisfied: six>=1.12.0 in /usr/local/lib/python3.10/dist-packages (from tensorflow) (1.16.0)\n",
            "Requirement already satisfied: termcolor>=1.1.0 in /usr/local/lib/python3.10/dist-packages (from tensorflow) (2.5.0)\n",
            "Requirement already satisfied: typing-extensions>=3.6.6 in /usr/local/lib/python3.10/dist-packages (from tensorflow) (4.12.2)\n",
            "Requirement already satisfied: wrapt<1.15,>=1.11.0 in /usr/local/lib/python3.10/dist-packages (from tensorflow) (1.14.1)\n",
            "Requirement already satisfied: tensorflow-io-gcs-filesystem>=0.23.1 in /usr/local/lib/python3.10/dist-packages (from tensorflow) (0.37.1)\n",
            "Requirement already satisfied: grpcio<2.0,>=1.24.3 in /usr/local/lib/python3.10/dist-packages (from tensorflow) (1.64.1)\n",
            "Requirement already satisfied: tensorboard<2.16,>=2.15 in /usr/local/lib/python3.10/dist-packages (from tensorflow) (2.15.2)\n",
            "Requirement already satisfied: tensorflow-estimator<2.16,>=2.15.0 in /usr/local/lib/python3.10/dist-packages (from tensorflow) (2.15.0)\n",
            "Requirement already satisfied: keras<2.16,>=2.15.0 in /usr/local/lib/python3.10/dist-packages (from tensorflow) (2.15.0)\n",
            "Requirement already satisfied: wheel<1.0,>=0.23.0 in /usr/local/lib/python3.10/dist-packages (from astunparse>=1.6.0->tensorflow) (0.44.0)\n",
            "Requirement already satisfied: ipython>=6.1.0 in /usr/local/lib/python3.10/dist-packages (from ipywidgets>=8.0.4->sionna) (7.34.0)\n",
            "Requirement already satisfied: traitlets>=4.3.1 in /usr/local/lib/python3.10/dist-packages (from ipywidgets>=8.0.4->sionna) (5.7.1)\n",
            "Requirement already satisfied: widgetsnbextension~=4.0 in /usr/local/lib/python3.10/dist-packages (from ipywidgets>=8.0.4->sionna) (4.0.13)\n",
            "Requirement already satisfied: drjit==0.4.6 in /usr/local/lib/python3.10/dist-packages (from mitsuba>=3.2.0->sionna) (0.4.6)\n",
            "Requirement already satisfied: google-auth<3,>=1.6.3 in /usr/local/lib/python3.10/dist-packages (from tensorboard<2.16,>=2.15->tensorflow) (2.27.0)\n",
            "Requirement already satisfied: google-auth-oauthlib<2,>=0.5 in /usr/local/lib/python3.10/dist-packages (from tensorboard<2.16,>=2.15->tensorflow) (1.2.1)\n",
            "Requirement already satisfied: markdown>=2.6.8 in /usr/local/lib/python3.10/dist-packages (from tensorboard<2.16,>=2.15->tensorflow) (3.7)\n",
            "Requirement already satisfied: requests<3,>=2.21.0 in /usr/local/lib/python3.10/dist-packages (from tensorboard<2.16,>=2.15->tensorflow) (2.32.3)\n",
            "Requirement already satisfied: tensorboard-data-server<0.8.0,>=0.7.0 in /usr/local/lib/python3.10/dist-packages (from tensorboard<2.16,>=2.15->tensorflow) (0.7.2)\n",
            "Requirement already satisfied: werkzeug>=1.0.1 in /usr/local/lib/python3.10/dist-packages (from tensorboard<2.16,>=2.15->tensorflow) (3.0.6)\n",
            "Requirement already satisfied: contourpy>=1.0.1 in /usr/local/lib/python3.10/dist-packages (from matplotlib->sionna) (1.3.0)\n",
            "Requirement already satisfied: cycler>=0.10 in /usr/local/lib/python3.10/dist-packages (from matplotlib->sionna) (0.12.1)\n",
            "Requirement already satisfied: fonttools>=4.22.0 in /usr/local/lib/python3.10/dist-packages (from matplotlib->sionna) (4.54.1)\n",
            "Requirement already satisfied: kiwisolver>=1.0.1 in /usr/local/lib/python3.10/dist-packages (from matplotlib->sionna) (1.4.7)\n",
            "Requirement already satisfied: pillow>=6.2.0 in /usr/local/lib/python3.10/dist-packages (from matplotlib->sionna) (10.4.0)\n",
            "Requirement already satisfied: pyparsing>=2.3.1 in /usr/local/lib/python3.10/dist-packages (from matplotlib->sionna) (3.2.0)\n",
            "Requirement already satisfied: python-dateutil>=2.7 in /usr/local/lib/python3.10/dist-packages (from matplotlib->sionna) (2.8.2)\n",
            "Requirement already satisfied: cachetools<6.0,>=2.0.0 in /usr/local/lib/python3.10/dist-packages (from google-auth<3,>=1.6.3->tensorboard<2.16,>=2.15->tensorflow) (5.5.0)\n",
            "Requirement already satisfied: pyasn1-modules>=0.2.1 in /usr/local/lib/python3.10/dist-packages (from google-auth<3,>=1.6.3->tensorboard<2.16,>=2.15->tensorflow) (0.4.1)\n",
            "Requirement already satisfied: rsa<5,>=3.1.4 in /usr/local/lib/python3.10/dist-packages (from google-auth<3,>=1.6.3->tensorboard<2.16,>=2.15->tensorflow) (4.9)\n",
            "Requirement already satisfied: requests-oauthlib>=0.7.0 in /usr/local/lib/python3.10/dist-packages (from google-auth-oauthlib<2,>=0.5->tensorboard<2.16,>=2.15->tensorflow) (1.3.1)\n",
            "Requirement already satisfied: jedi>=0.16 in /usr/local/lib/python3.10/dist-packages (from ipython>=6.1.0->ipywidgets>=8.0.4->sionna) (0.19.1)\n",
            "Requirement already satisfied: decorator in /usr/local/lib/python3.10/dist-packages (from ipython>=6.1.0->ipywidgets>=8.0.4->sionna) (4.4.2)\n",
            "Requirement already satisfied: pickleshare in /usr/local/lib/python3.10/dist-packages (from ipython>=6.1.0->ipywidgets>=8.0.4->sionna) (0.7.5)\n",
            "Requirement already satisfied: prompt-toolkit!=3.0.0,!=3.0.1,<3.1.0,>=2.0.0 in /usr/local/lib/python3.10/dist-packages (from ipython>=6.1.0->ipywidgets>=8.0.4->sionna) (3.0.48)\n",
            "Requirement already satisfied: pygments in /usr/local/lib/python3.10/dist-packages (from ipython>=6.1.0->ipywidgets>=8.0.4->sionna) (2.18.0)\n",
            "Requirement already satisfied: backcall in /usr/local/lib/python3.10/dist-packages (from ipython>=6.1.0->ipywidgets>=8.0.4->sionna) (0.2.0)\n",
            "Requirement already satisfied: matplotlib-inline in /usr/local/lib/python3.10/dist-packages (from ipython>=6.1.0->ipywidgets>=8.0.4->sionna) (0.1.7)\n",
            "Requirement already satisfied: pexpect>4.3 in /usr/local/lib/python3.10/dist-packages (from ipython>=6.1.0->ipywidgets>=8.0.4->sionna) (4.9.0)\n",
            "Requirement already satisfied: charset-normalizer<4,>=2 in /usr/local/lib/python3.10/dist-packages (from requests<3,>=2.21.0->tensorboard<2.16,>=2.15->tensorflow) (3.4.0)\n",
            "Requirement already satisfied: idna<4,>=2.5 in /usr/local/lib/python3.10/dist-packages (from requests<3,>=2.21.0->tensorboard<2.16,>=2.15->tensorflow) (3.10)\n",
            "Requirement already satisfied: urllib3<3,>=1.21.1 in /usr/local/lib/python3.10/dist-packages (from requests<3,>=2.21.0->tensorboard<2.16,>=2.15->tensorflow) (2.2.3)\n",
            "Requirement already satisfied: certifi>=2017.4.17 in /usr/local/lib/python3.10/dist-packages (from requests<3,>=2.21.0->tensorboard<2.16,>=2.15->tensorflow) (2024.8.30)\n",
            "Requirement already satisfied: MarkupSafe>=2.1.1 in /usr/local/lib/python3.10/dist-packages (from werkzeug>=1.0.1->tensorboard<2.16,>=2.15->tensorflow) (3.0.2)\n",
            "Requirement already satisfied: parso<0.9.0,>=0.8.3 in /usr/local/lib/python3.10/dist-packages (from jedi>=0.16->ipython>=6.1.0->ipywidgets>=8.0.4->sionna) (0.8.4)\n",
            "Requirement already satisfied: ptyprocess>=0.5 in /usr/local/lib/python3.10/dist-packages (from pexpect>4.3->ipython>=6.1.0->ipywidgets>=8.0.4->sionna) (0.7.0)\n",
            "Requirement already satisfied: wcwidth in /usr/local/lib/python3.10/dist-packages (from prompt-toolkit!=3.0.0,!=3.0.1,<3.1.0,>=2.0.0->ipython>=6.1.0->ipywidgets>=8.0.4->sionna) (0.2.13)\n",
            "Requirement already satisfied: pyasn1<0.7.0,>=0.4.6 in /usr/local/lib/python3.10/dist-packages (from pyasn1-modules>=0.2.1->google-auth<3,>=1.6.3->tensorboard<2.16,>=2.15->tensorflow) (0.6.1)\n",
            "Requirement already satisfied: oauthlib>=3.0.0 in /usr/local/lib/python3.10/dist-packages (from requests-oauthlib>=0.7.0->google-auth-oauthlib<2,>=0.5->tensorboard<2.16,>=2.15->tensorflow) (3.2.2)\n"
          ]
        }
      ]
    },
    {
      "cell_type": "code",
      "source": [
        "import tensorflow as tf\n",
        "import sionna\n",
        "from sionna.channel import RayleighBlockFading  # Example channel model"
      ],
      "metadata": {
        "id": "upofOV1tc8cb"
      },
      "execution_count": 80,
      "outputs": []
    },
    {
      "cell_type": "code",
      "source": [
        "import numpy as np\n",
        "from scipy.stats import rayleigh\n",
        "\n",
        "# Parameters\n",
        "num_samples = 1000\n",
        "num_tx_antennas = 2\n",
        "num_rx_antennas = 2\n",
        "\n",
        "# Generate Rayleigh fading channel matrix\n",
        "h = np.zeros((num_rx_antennas, num_tx_antennas), dtype=complex)\n",
        "for i in range(num_rx_antennas):\n",
        "    for j in range(num_tx_antennas):\n",
        "        h[i, j] = rayleigh.rvs() + 1j * rayleigh.rvs()\n",
        "\n",
        "# Normalize the channel matrix\n",
        "h = h / np.linalg.norm(h, 'fro')\n",
        "\n",
        "print(h)"
      ],
      "metadata": {
        "colab": {
          "base_uri": "https://localhost:8080/"
        },
        "id": "CEyOnwrnfUT5",
        "outputId": "183e265e-c47a-4f23-b942-c640d2fc1421"
      },
      "execution_count": 81,
      "outputs": [
        {
          "output_type": "stream",
          "name": "stdout",
          "text": [
            "[[0.21976065+0.34225304j 0.25321771+0.35599463j]\n",
            " [0.54092398+0.44728061j 0.20635908+0.32935385j]]\n"
          ]
        }
      ]
    },
    {
      "cell_type": "code",
      "source": [
        "import matplotlib.pyplot as plt\n",
        "\n",
        "plt.figure()\n",
        "plt.imshow(np.abs(h), cmap='hot', interpolation='nearest')\n",
        "plt.title('Magnitude of Channel Coefficients')\n",
        "plt.colorbar()\n",
        "plt.xlabel('Transmit Antenna')\n",
        "plt.ylabel('Receive Antenna')\n",
        "plt.show()"
      ],
      "metadata": {
        "colab": {
          "base_uri": "https://localhost:8080/",
          "height": 472
        },
        "id": "DpGqD9n9g8Qh",
        "outputId": "8e3367b6-1bf5-486a-dc6b-43125f46e3f4"
      },
      "execution_count": 82,
      "outputs": [
        {
          "output_type": "display_data",
          "data": {
            "text/plain": [
              "<Figure size 640x480 with 2 Axes>"
            ],
            "image/png": "[encoded data removed]"
          },
          "metadata": {}
        }
      ]
    },
    {
      "cell_type": "code",
      "source": [
        "import sionna\n",
        "print(sionna.__version__)"
      ],
      "metadata": {
        "colab": {
          "base_uri": "https://localhost:8080/"
        },
        "id": "6Nni3Acbk0Nu",
        "outputId": "052be113-33de-493b-8db6-eb953d9a35e2"
      },
      "execution_count": 84,
      "outputs": [
        {
          "output_type": "stream",
          "name": "stdout",
          "text": [
            "0.19.0\n"
          ]
        }
      ]
    },
    {
      "cell_type": "code",
      "source": [
        "import sionna.channel as channel\n",
        "\n",
        "print(dir(channel))"
      ],
      "metadata": {
        "colab": {
          "base_uri": "https://localhost:8080/"
        },
        "id": "HDbDn9sfnLJL",
        "outputId": "cd004869-3c6c-4fbe-ed75-a16a36910be1"
      },
      "execution_count": 94,
      "outputs": [
        {
          "output_type": "stream",
          "name": "stdout",
          "text": [
            "['AWGN', 'ApplyFlatFadingChannel', 'ApplyOFDMChannel', 'ApplyTimeChannel', 'BinaryErasureChannel', 'BinaryMemorylessChannel', 'BinarySymmetricChannel', 'BinaryZChannel', 'CIRDataset', 'ChannelModel', 'DEFAULT_L_MIN', 'EDFA', 'FlatFadingChannel', 'GenerateFlatFadingChannel', 'GenerateOFDMChannel', 'GenerateTimeChannel', 'KroneckerModel', 'OFDMChannel', 'PerColumnModel', 'RayleighBlockFading', 'SSFM', 'SpatialCorrelation', 'TimeChannel', '__builtins__', '__cached__', '__doc__', '__file__', '__loader__', '__name__', '__package__', '__path__', '__spec__', 'apply_ofdm_channel', 'apply_time_channel', 'awgn', 'channel_model', 'cir_dataset', 'cir_to_ofdm_channel', 'cir_to_time_channel', 'constants', 'deg_2_rad', 'discrete_channel', 'drop_uts_in_sector', 'edfa', 'exp_corr_mat', 'fiber', 'flat_fading_channel', 'gen_single_sector_topology', 'gen_single_sector_topology_interferers', 'generate_ofdm_channel', 'generate_time_channel', 'ofdm_channel', 'one_ring_corr_mat', 'optical', 'rad_2_deg', 'rayleigh_block_fading', 'relocate_uts', 'set_3gpp_scenario_parameters', 'spatial_correlation', 'subcarrier_frequencies', 'time_channel', 'time_frequency_vector', 'time_lag_discrete_time_channel', 'time_to_ofdm_channel', 'tr38901', 'utils', 'wrap_angle_0_360']\n"
          ]
        }
      ]
    },
    {
      "source": [
        "import numpy as np\n",
        "import tensorflow as tf\n",
        "import sionna\n",
        "from sionna.channel import AWGN\n",
        "\n",
        "num_bits = 1000\n",
        "\n",
        "# Generate the transmit signal as a TensorFlow tensor with dtype=tf.complex64\n",
        "tx_signal = tf.cast(tf.random.uniform(shape=(num_bits,), minval=0, maxval=2, dtype=tf.int64), dtype=tf.complex64)\n",
        "\n",
        "# Initialize the AWGN channel\n",
        "snr_dB = 10\n",
        "awgn_channel = AWGN()\n",
        "\n",
        "# Calculate noise power from SNR\n",
        "ebno_db = snr_dB\n",
        "no = sionna.utils.ebnodb2no(ebno_db, num_bits_per_symbol=1, coderate=1.0)\n",
        "\n",
        "# Transmit the signal through the AWGN channel, providing both signal and noise power\n",
        "rx_signal = awgn_channel([tx_signal, no]) # Pass signal and noise power as a list\n",
        "\n",
        "# Calculate Bit Error Rate (BER)\n",
        "detected_signal = tf.cast(tf.math.real(rx_signal) > 0.5, dtype=tf.int32)\n",
        "\n",
        "# Cast the real part of the transmit signal to float32 before comparison\n",
        "ber = np.sum(tf.cast(tf.math.real(tx_signal), dtype=tf.float32) != tf.cast(detected_signal, dtype=tf.float32)) / num_bits\n",
        "print(f\"Bit Error Rate (BER): {ber}\")"
      ],
      "cell_type": "code",
      "metadata": {
        "colab": {
          "base_uri": "https://localhost:8080/"
        },
        "id": "BKxcJUrVplW9",
        "outputId": "12ab87ba-e7cb-4c39-b360-ffcfa6c6b9b4"
      },
      "execution_count": 102,
      "outputs": [
        {
          "output_type": "stream",
          "name": "stdout",
          "text": [
            "Bit Error Rate (BER): 0.01\n"
          ]
        }
      ]
    },
    {
      "cell_type": "code",
      "source": [
        "!pip install tensorflow"
      ],
      "metadata": {
        "colab": {
          "base_uri": "https://localhost:8080/"
        },
        "id": "JwLtcgt0u1tk",
        "outputId": "1df4b3b7-b1e4-4d1c-d28c-431cbd62ee3c"
      },
      "execution_count": 106,
      "outputs": [
        {
          "output_type": "stream",
          "name": "stdout",
          "text": [
            "Requirement already satisfied: tensorflow in /usr/local/lib/python3.10/dist-packages (2.15.1)\n",
            "Requirement already satisfied: absl-py>=1.0.0 in /usr/local/lib/python3.10/dist-packages (from tensorflow) (1.4.0)\n",
            "Requirement already satisfied: astunparse>=1.6.0 in /usr/local/lib/python3.10/dist-packages (from tensorflow) (1.6.3)\n",
            "Requirement already satisfied: flatbuffers>=23.5.26 in /usr/local/lib/python3.10/dist-packages (from tensorflow) (24.3.25)\n",
            "Requirement already satisfied: gast!=0.5.0,!=0.5.1,!=0.5.2,>=0.2.1 in /usr/local/lib/python3.10/dist-packages (from tensorflow) (0.6.0)\n",
            "Requirement already satisfied: google-pasta>=0.1.1 in /usr/local/lib/python3.10/dist-packages (from tensorflow) (0.2.0)\n",
            "Requirement already satisfied: h5py>=2.9.0 in /usr/local/lib/python3.10/dist-packages (from tensorflow) (3.12.1)\n",
            "Requirement already satisfied: libclang>=13.0.0 in /usr/local/lib/python3.10/dist-packages (from tensorflow) (18.1.1)\n",
            "Requirement already satisfied: ml-dtypes~=0.3.1 in /usr/local/lib/python3.10/dist-packages (from tensorflow) (0.3.2)\n",
            "Requirement already satisfied: numpy<2.0.0,>=1.23.5 in /usr/local/lib/python3.10/dist-packages (from tensorflow) (1.26.4)\n",
            "Requirement already satisfied: opt-einsum>=2.3.2 in /usr/local/lib/python3.10/dist-packages (from tensorflow) (3.4.0)\n",
            "Requirement already satisfied: packaging in /usr/local/lib/python3.10/dist-packages (from tensorflow) (24.1)\n",
            "Requirement already satisfied: protobuf!=4.21.0,!=4.21.1,!=4.21.2,!=4.21.3,!=4.21.4,!=4.21.5,<5.0.0dev,>=3.20.3 in /usr/local/lib/python3.10/dist-packages (from tensorflow) (3.20.3)\n",
            "Requirement already satisfied: setuptools in /usr/local/lib/python3.10/dist-packages (from tensorflow) (75.1.0)\n",
            "Requirement already satisfied: six>=1.12.0 in /usr/local/lib/python3.10/dist-packages (from tensorflow) (1.16.0)\n",
            "Requirement already satisfied: termcolor>=1.1.0 in /usr/local/lib/python3.10/dist-packages (from tensorflow) (2.5.0)\n",
            "Requirement already satisfied: typing-extensions>=3.6.6 in /usr/local/lib/python3.10/dist-packages (from tensorflow) (4.12.2)\n",
            "Requirement already satisfied: wrapt<1.15,>=1.11.0 in /usr/local/lib/python3.10/dist-packages (from tensorflow) (1.14.1)\n",
            "Requirement already satisfied: tensorflow-io-gcs-filesystem>=0.23.1 in /usr/local/lib/python3.10/dist-packages (from tensorflow) (0.37.1)\n",
            "Requirement already satisfied: grpcio<2.0,>=1.24.3 in /usr/local/lib/python3.10/dist-packages (from tensorflow) (1.64.1)\n",
            "Requirement already satisfied: tensorboard<2.16,>=2.15 in /usr/local/lib/python3.10/dist-packages (from tensorflow) (2.15.2)\n",
            "Requirement already satisfied: tensorflow-estimator<2.16,>=2.15.0 in /usr/local/lib/python3.10/dist-packages (from tensorflow) (2.15.0)\n",
            "Requirement already satisfied: keras<2.16,>=2.15.0 in /usr/local/lib/python3.10/dist-packages (from tensorflow) (2.15.0)\n",
            "Requirement already satisfied: wheel<1.0,>=0.23.0 in /usr/local/lib/python3.10/dist-packages (from astunparse>=1.6.0->tensorflow) (0.44.0)\n",
            "Requirement already satisfied: google-auth<3,>=1.6.3 in /usr/local/lib/python3.10/dist-packages (from tensorboard<2.16,>=2.15->tensorflow) (2.27.0)\n",
            "Requirement already satisfied: google-auth-oauthlib<2,>=0.5 in /usr/local/lib/python3.10/dist-packages (from tensorboard<2.16,>=2.15->tensorflow) (1.2.1)\n",
            "Requirement already satisfied: markdown>=2.6.8 in /usr/local/lib/python3.10/dist-packages (from tensorboard<2.16,>=2.15->tensorflow) (3.7)\n",
            "Requirement already satisfied: requests<3,>=2.21.0 in /usr/local/lib/python3.10/dist-packages (from tensorboard<2.16,>=2.15->tensorflow) (2.32.3)\n",
            "Requirement already satisfied: tensorboard-data-server<0.8.0,>=0.7.0 in /usr/local/lib/python3.10/dist-packages (from tensorboard<2.16,>=2.15->tensorflow) (0.7.2)\n",
            "Requirement already satisfied: werkzeug>=1.0.1 in /usr/local/lib/python3.10/dist-packages (from tensorboard<2.16,>=2.15->tensorflow) (3.0.6)\n",
            "Requirement already satisfied: cachetools<6.0,>=2.0.0 in /usr/local/lib/python3.10/dist-packages (from google-auth<3,>=1.6.3->tensorboard<2.16,>=2.15->tensorflow) (5.5.0)\n",
            "Requirement already satisfied: pyasn1-modules>=0.2.1 in /usr/local/lib/python3.10/dist-packages (from google-auth<3,>=1.6.3->tensorboard<2.16,>=2.15->tensorflow) (0.4.1)\n",
            "Requirement already satisfied: rsa<5,>=3.1.4 in /usr/local/lib/python3.10/dist-packages (from google-auth<3,>=1.6.3->tensorboard<2.16,>=2.15->tensorflow) (4.9)\n",
            "Requirement already satisfied: requests-oauthlib>=0.7.0 in /usr/local/lib/python3.10/dist-packages (from google-auth-oauthlib<2,>=0.5->tensorboard<2.16,>=2.15->tensorflow) (1.3.1)\n",
            "Requirement already satisfied: charset-normalizer<4,>=2 in /usr/local/lib/python3.10/dist-packages (from requests<3,>=2.21.0->tensorboard<2.16,>=2.15->tensorflow) (3.4.0)\n",
            "Requirement already satisfied: idna<4,>=2.5 in /usr/local/lib/python3.10/dist-packages (from requests<3,>=2.21.0->tensorboard<2.16,>=2.15->tensorflow) (3.10)\n",
            "Requirement already satisfied: urllib3<3,>=1.21.1 in /usr/local/lib/python3.10/dist-packages (from requests<3,>=2.21.0->tensorboard<2.16,>=2.15->tensorflow) (2.2.3)\n",
            "Requirement already satisfied: certifi>=2017.4.17 in /usr/local/lib/python3.10/dist-packages (from requests<3,>=2.21.0->tensorboard<2.16,>=2.15->tensorflow) (2024.8.30)\n",
            "Requirement already satisfied: MarkupSafe>=2.1.1 in /usr/local/lib/python3.10/dist-packages (from werkzeug>=1.0.1->tensorboard<2.16,>=2.15->tensorflow) (3.0.2)\n",
            "Requirement already satisfied: pyasn1<0.7.0,>=0.4.6 in /usr/local/lib/python3.10/dist-packages (from pyasn1-modules>=0.2.1->google-auth<3,>=1.6.3->tensorboard<2.16,>=2.15->tensorflow) (0.6.1)\n",
            "Requirement already satisfied: oauthlib>=3.0.0 in /usr/local/lib/python3.10/dist-packages (from requests-oauthlib>=0.7.0->google-auth-oauthlib<2,>=0.5->tensorboard<2.16,>=2.15->tensorflow) (3.2.2)\n"
          ]
        }
      ]
    },
    {
      "cell_type": "code",
      "source": [
        "import tensorflow as tf\n",
        "import numpy as np\n",
        "from tensorflow.keras.models import Sequential\n",
        "from tensorflow.keras.layers import Conv1D, MaxPooling1D, Flatten, Dense\n",
        "from tensorflow.keras.utils import to_categorical\n",
        "from tensorflow.keras.callbacks import EarlyStopping, ReduceLROnPlateau"
      ],
      "metadata": {
        "id": "hkWZCalwwN5D"
      },
      "execution_count": 109,
      "outputs": []
    },
    {
      "cell_type": "code",
      "source": [
        "num_samples = 1000\n",
        "input_length = 100  # Length of each input sequence\n",
        "num_classes = 5     # Number of classification categories\n",
        "\n",
        "X = np.random.randn(num_samples, input_length)\n",
        "y = np.random.randint(0, num_classes, num_samples)\n",
        "\n",
        "# Reshape input data for Conv1D (samples, time steps, features)\n",
        "X = X.reshape(num_samples, input_length, 1)\n",
        "\n",
        "# Convert labels to one-hot encoding\n",
        "y = to_categorical(y, num_classes=num_classes)\n",
        "\n",
        "# Split data into training and validation sets\n",
        "from sklearn.model_selection import train_test_split\n",
        "X_train, X_val, y_train, y_val = train_test_split(X, y, test_size=0.2, random_state=42)\n",
        "\n",
        "# Define model architecture\n",
        "model = Sequential([\n",
        "    Conv1D(32, kernel_size=3, activation='relu', input_shape=(input_length, 1)),\n",
        "    MaxPooling1D(pool_size=2),\n",
        "    Flatten(),\n",
        "    Dense(64, activation='relu'),\n",
        "    Dense(num_classes, activation='softmax')\n",
        "])\n",
        "\n",
        "# Compile the model\n",
        "model.compile(loss='categorical_crossentropy',\n",
        "             optimizer='adam',\n",
        "             metrics=['accuracy'])\n",
        "\n",
        "# Print model summary\n",
        "model.summary()\n",
        "\n",
        "# Train the model\n",
        "history = model.fit(X_train, y_train,\n",
        "                   epochs=10,\n",
        "                   batch_size=32,\n",
        "                   validation_data=(X_val, y_val),\n",
        "                   verbose=1)\n",
        "# Early Stopping\n",
        "early_stop = EarlyStopping(monitor='val_loss', patience=10, restore_best_weights=True)\n",
        "\n",
        "# Reduce Learning Rate on Plateau\n",
        "reduce_lr = ReduceLROnPlateau(monitor='val_loss', factor=0.1, patience=5)\n",
        "\n",
        "# Train the model with callbacks\n",
        "history = model.fit(X_train, y_train, epochs=50, validation_data=(X_val, y_val), callbacks=[early_stop, reduce_lr])\n",
        "\n",
        "# Plot training history\n",
        "import matplotlib.pyplot as plt\n",
        "\n",
        "plt.figure(figsize=(12, 4))\n",
        "\n",
        "# Plot training & validation accuracy\n",
        "plt.subplot(1, 2, 1)\n",
        "plt.plot(history.history['accuracy'])\n",
        "plt.plot(history.history['val_accuracy'])\n",
        "plt.title('Model accuracy')\n",
        "plt.ylabel('Accuracy')\n",
        "plt.xlabel('Epoch')\n",
        "plt.legend(['Train', 'Validation'], loc='upper left')\n",
        "\n",
        "# Plot training & validation loss\n",
        "plt.subplot(1, 2, 2)\n",
        "plt.plot(history.history['loss'])\n",
        "plt.plot(history.history['val_loss'])\n",
        "plt.title('Model loss')\n",
        "plt.ylabel('Loss')\n",
        "plt.xlabel('Epoch')\n",
        "plt.legend(['Train', 'Validation'], loc='upper left')\n",
        "\n",
        "plt.tight_layout()\n",
        "plt.show()"
      ],
      "metadata": {
        "colab": {
          "base_uri": "https://localhost:8080/",
          "height": 1000
        },
        "id": "JhE-tZqxuptA",
        "outputId": "f1461b52-9dce-42f9-f8a0-707c0b6c5041"
      },
      "execution_count": 111,
      "outputs": [
        {
          "output_type": "stream",
          "name": "stdout",
          "text": [
            "Model: \"sequential_3\"\n",
            "_________________________________________________________________\n",
            " Layer (type)                Output Shape              Param #   \n",
            "=================================================================\n",
            " conv1d_2 (Conv1D)           (None, 98, 32)            128       \n",
            "                                                                 \n",
            " max_pooling1d_2 (MaxPoolin  (None, 49, 32)            0         \n",
            " g1D)                                                            \n",
            "                                                                 \n",
            " flatten_4 (Flatten)         (None, 1568)              0         \n",
            "                                                                 \n",
            " dense_8 (Dense)             (None, 64)                100416    \n",
            "                                                                 \n",
            " dense_9 (Dense)             (None, 5)                 325       \n",
            "                                                                 \n",
            "=================================================================\n",
            "Total params: 100869 (394.02 KB)\n",
            "Trainable params: 100869 (394.02 KB)\n",
            "Non-trainable params: 0 (0.00 Byte)\n",
            "_________________________________________________________________\n",
            "Epoch 1/10\n",
            "25/25 [==============================] - 1s 15ms/step - loss: 1.6386 - accuracy: 0.2113 - val_loss: 1.6253 - val_accuracy: 0.1900\n",
            "Epoch 2/10\n",
            "25/25 [==============================] - 0s 8ms/step - loss: 1.5626 - accuracy: 0.3050 - val_loss: 1.6346 - val_accuracy: 0.1700\n",
            "Epoch 3/10\n",
            "25/25 [==============================] - 0s 9ms/step - loss: 1.5247 - accuracy: 0.3388 - val_loss: 1.6541 - val_accuracy: 0.1750\n",
            "Epoch 4/10\n",
            "25/25 [==============================] - 0s 14ms/step - loss: 1.4813 - accuracy: 0.3787 - val_loss: 1.6934 - val_accuracy: 0.2100\n",
            "Epoch 5/10\n",
            "25/25 [==============================] - 0s 13ms/step - loss: 1.4187 - accuracy: 0.4238 - val_loss: 1.7004 - val_accuracy: 0.1850\n",
            "Epoch 6/10\n",
            "25/25 [==============================] - 0s 14ms/step - loss: 1.3689 - accuracy: 0.4613 - val_loss: 1.7637 - val_accuracy: 0.2150\n",
            "Epoch 7/10\n",
            "25/25 [==============================] - 0s 14ms/step - loss: 1.3251 - accuracy: 0.4850 - val_loss: 1.8301 - val_accuracy: 0.1850\n",
            "Epoch 8/10\n",
            "25/25 [==============================] - 0s 14ms/step - loss: 1.2759 - accuracy: 0.4975 - val_loss: 1.8403 - val_accuracy: 0.2500\n",
            "Epoch 9/10\n",
            "25/25 [==============================] - 0s 12ms/step - loss: 1.2066 - accuracy: 0.5387 - val_loss: 1.9168 - val_accuracy: 0.1800\n",
            "Epoch 10/10\n",
            "25/25 [==============================] - 0s 11ms/step - loss: 1.1831 - accuracy: 0.5537 - val_loss: 1.8935 - val_accuracy: 0.2350\n",
            "Epoch 1/50\n",
            "25/25 [==============================] - 0s 9ms/step - loss: 1.1396 - accuracy: 0.5663 - val_loss: 2.0023 - val_accuracy: 0.2300 - lr: 0.0010\n",
            "Epoch 2/50\n",
            "25/25 [==============================] - 0s 8ms/step - loss: 1.0527 - accuracy: 0.6263 - val_loss: 2.0558 - val_accuracy: 0.2150 - lr: 0.0010\n",
            "Epoch 3/50\n",
            "25/25 [==============================] - 0s 7ms/step - loss: 0.9958 - accuracy: 0.6363 - val_loss: 2.0898 - val_accuracy: 0.2250 - lr: 0.0010\n",
            "Epoch 4/50\n",
            "25/25 [==============================] - 0s 7ms/step - loss: 0.9410 - accuracy: 0.6712 - val_loss: 2.1420 - val_accuracy: 0.2200 - lr: 0.0010\n",
            "Epoch 5/50\n",
            "25/25 [==============================] - 0s 7ms/step - loss: 0.8727 - accuracy: 0.7000 - val_loss: 2.2266 - val_accuracy: 0.2200 - lr: 0.0010\n",
            "Epoch 6/50\n",
            "25/25 [==============================] - 0s 7ms/step - loss: 0.8121 - accuracy: 0.7325 - val_loss: 2.2861 - val_accuracy: 0.2500 - lr: 0.0010\n",
            "Epoch 7/50\n",
            "25/25 [==============================] - 0s 7ms/step - loss: 0.7131 - accuracy: 0.7925 - val_loss: 2.3282 - val_accuracy: 0.2350 - lr: 1.0000e-04\n",
            "Epoch 8/50\n",
            "25/25 [==============================] - 0s 9ms/step - loss: 0.6965 - accuracy: 0.8050 - val_loss: 2.3413 - val_accuracy: 0.2450 - lr: 1.0000e-04\n",
            "Epoch 9/50\n",
            "25/25 [==============================] - 0s 7ms/step - loss: 0.6933 - accuracy: 0.8087 - val_loss: 2.3576 - val_accuracy: 0.2350 - lr: 1.0000e-04\n",
            "Epoch 10/50\n",
            "25/25 [==============================] - 0s 7ms/step - loss: 0.6783 - accuracy: 0.8125 - val_loss: 2.3680 - val_accuracy: 0.2350 - lr: 1.0000e-04\n",
            "Epoch 11/50\n",
            "25/25 [==============================] - 0s 7ms/step - loss: 0.6739 - accuracy: 0.8075 - val_loss: 2.3811 - val_accuracy: 0.2350 - lr: 1.0000e-04\n"
          ]
        },
        {
          "output_type": "display_data",
          "data": {
            "text/plain": [
              "<Figure size 1200x400 with 2 Axes>"
            ],
            "image/png": "[encoded data removed]"
          },
          "metadata": {}
        }
      ]
    },
    {
      "cell_type": "code",
      "source": [
        "import numpy as np\n",
        "from tensorflow.keras.models import Sequential\n",
        "from tensorflow.keras.layers import Conv1D, MaxPooling1D, Flatten, Dense\n",
        "from tensorflow.keras.utils import to_categorical\n",
        "from tensorflow.keras.callbacks import EarlyStopping, ReduceLROnPlateau\n",
        "from sklearn.model_selection import train_test_split"
      ],
      "metadata": {
        "id": "tzjAYfsp0L3U"
      },
      "execution_count": 113,
      "outputs": []
    },
    {
      "cell_type": "code",
      "source": [
        "from sklearn.metrics import confusion_matrix, classification_report\n",
        "import matplotlib.pyplot as plt\n",
        "import seaborn as sns\n",
        "\n",
        "num_samples = 1000\n",
        "input_length = 100\n",
        "num_classes = 5\n",
        "\n",
        "X = np.random.randn(num_samples, input_length)\n",
        "y = np.random.randint(0, num_classes, num_samples)\n",
        "\n",
        "# Reshape input data for Conv1D\n",
        "X = X.reshape(num_samples, input_length, 1)\n",
        "\n",
        "# Convert labels to one-hot encoding\n",
        "y = to_categorical(y, num_classes=num_classes)\n",
        "\n",
        "# Split data into train, validation, and test sets\n",
        "X_train, X_temp, y_train, y_temp = train_test_split(X, y, test_size=0.3, random_state=42)\n",
        "X_val, X_test, y_val, y_test = train_test_split(X_temp, y_temp, test_size=0.5, random_state=42)\n",
        "\n",
        "# Define model architecture\n",
        "model = Sequential([\n",
        "    Conv1D(32, kernel_size=3, activation='relu', input_shape=(input_length, 1)),\n",
        "    MaxPooling1D(pool_size=2),\n",
        "    Flatten(),\n",
        "    Dense(64, activation='relu'),\n",
        "    Dense(num_classes, activation='softmax')\n",
        "])\n",
        "\n",
        "# Compile the model\n",
        "model.compile(loss='categorical_crossentropy',\n",
        "             optimizer='adam',\n",
        "             metrics=['accuracy'])\n",
        "\n",
        "# Callbacks\n",
        "early_stop = EarlyStopping(monitor='val_loss',\n",
        "                          patience=10,\n",
        "                          restore_best_weights=True)\n",
        "\n",
        "reduce_lr = ReduceLROnPlateau(monitor='val_loss',\n",
        "                             factor=0.1,\n",
        "                             patience=5)\n",
        "\n",
        "# Train the model\n",
        "history = model.fit(X_train, y_train,\n",
        "                   epochs=50,\n",
        "                   batch_size=32,\n",
        "                   validation_data=(X_val, y_val),\n",
        "                   callbacks=[early_stop, reduce_lr],\n",
        "                   verbose=1)\n",
        "\n",
        "# Model Evaluation\n",
        "y_pred = model.predict(X_test)\n",
        "y_pred_classes = np.argmax(y_pred, axis=1)\n",
        "y_true_classes = np.argmax(y_test, axis=1)\n",
        "\n",
        "# Confusion Matrix\n",
        "cm = confusion_matrix(y_true_classes, y_pred_classes)\n",
        "print(\"\\nConfusion Matrix:\")\n",
        "print(cm)\n",
        "\n",
        "# Classification Report\n",
        "report = classification_report(y_true_classes, y_pred_classes)\n",
        "print(\"\\nClassification Report:\")\n",
        "print(report)\n",
        "\n",
        "# Visualize Confusion Matrix\n",
        "plt.figure(figsize=(10, 8))\n",
        "sns.heatmap(cm, annot=True, fmt='d', cmap='Blues')\n",
        "plt.title('Confusion Matrix')\n",
        "plt.ylabel('True Label')\n",
        "plt.xlabel('Predicted Label')\n",
        "plt.show()\n",
        "\n",
        "# Plot training history\n",
        "plt.figure(figsize=(12, 4))\n",
        "\n",
        "# Plot training & validation accuracy\n",
        "plt.subplot(1, 2, 1)\n",
        "plt.plot(history.history['accuracy'])\n",
        "plt.plot(history.history['val_accuracy'])\n",
        "plt.title('Model accuracy')\n",
        "plt.ylabel('Accuracy')\n",
        "plt.xlabel('Epoch')\n",
        "plt.legend(['Train', 'Validation'], loc='upper left')\n",
        "\n",
        "# Plot training & validation loss\n",
        "plt.subplot(1, 2, 2)\n",
        "plt.plot(history.history['loss'])\n",
        "plt.plot(history.history['val_loss'])\n",
        "plt.title('Model loss')\n",
        "plt.ylabel('Loss')\n",
        "plt.xlabel('Epoch')\n",
        "plt.legend(['Train', 'Validation'], loc='upper left')\n",
        "\n",
        "plt.tight_layout()\n",
        "plt.show()\n",
        "\n",
        "# Print test set accuracy\n",
        "test_loss, test_accuracy = model.evaluate(X_test, y_test, verbose=0)\n",
        "print(f\"\\nTest Accuracy: {test_accuracy:.4f}\")"
      ],
      "metadata": {
        "colab": {
          "base_uri": "https://localhost:8080/",
          "height": 1000
        },
        "id": "rk-VrJuly4VH",
        "outputId": "2ffe8209-2edf-4afc-aa9b-bbb98f421924"
      },
      "execution_count": 114,
      "outputs": [
        {
          "output_type": "stream",
          "name": "stdout",
          "text": [
            "Epoch 1/50\n",
            "22/22 [==============================] - 2s 17ms/step - loss: 1.6370 - accuracy: 0.1929 - val_loss: 1.6534 - val_accuracy: 0.1667 - lr: 0.0010\n",
            "Epoch 2/50\n",
            "22/22 [==============================] - 0s 8ms/step - loss: 1.5348 - accuracy: 0.3371 - val_loss: 1.6195 - val_accuracy: 0.2600 - lr: 0.0010\n",
            "Epoch 3/50\n",
            "22/22 [==============================] - 0s 7ms/step - loss: 1.4708 - accuracy: 0.3771 - val_loss: 1.6413 - val_accuracy: 0.2533 - lr: 0.0010\n",
            "Epoch 4/50\n",
            "22/22 [==============================] - 0s 7ms/step - loss: 1.4125 - accuracy: 0.4243 - val_loss: 1.6941 - val_accuracy: 0.2600 - lr: 0.0010\n",
            "Epoch 5/50\n",
            "22/22 [==============================] - 0s 6ms/step - loss: 1.3394 - accuracy: 0.4657 - val_loss: 1.7415 - val_accuracy: 0.2267 - lr: 0.0010\n",
            "Epoch 6/50\n",
            "22/22 [==============================] - 0s 7ms/step - loss: 1.2693 - accuracy: 0.5057 - val_loss: 1.7505 - val_accuracy: 0.2400 - lr: 0.0010\n",
            "Epoch 7/50\n",
            "22/22 [==============================] - 0s 8ms/step - loss: 1.2126 - accuracy: 0.5371 - val_loss: 1.8127 - val_accuracy: 0.2200 - lr: 0.0010\n",
            "Epoch 8/50\n",
            "22/22 [==============================] - 0s 7ms/step - loss: 1.1268 - accuracy: 0.5943 - val_loss: 1.8127 - val_accuracy: 0.2333 - lr: 1.0000e-04\n",
            "Epoch 9/50\n",
            "22/22 [==============================] - 0s 9ms/step - loss: 1.0985 - accuracy: 0.6271 - val_loss: 1.7969 - val_accuracy: 0.2333 - lr: 1.0000e-04\n",
            "Epoch 10/50\n",
            "22/22 [==============================] - 0s 7ms/step - loss: 1.0915 - accuracy: 0.6271 - val_loss: 1.8131 - val_accuracy: 0.2333 - lr: 1.0000e-04\n",
            "Epoch 11/50\n",
            "22/22 [==============================] - 0s 8ms/step - loss: 1.0794 - accuracy: 0.6414 - val_loss: 1.8111 - val_accuracy: 0.2333 - lr: 1.0000e-04\n",
            "Epoch 12/50\n",
            "22/22 [==============================] - 0s 8ms/step - loss: 1.0723 - accuracy: 0.6357 - val_loss: 1.8238 - val_accuracy: 0.2200 - lr: 1.0000e-04\n",
            "5/5 [==============================] - 0s 3ms/step\n",
            "\n",
            "Confusion Matrix:\n",
            "[[14  3  6  2  7]\n",
            " [ 4  4 12  1  6]\n",
            " [ 9  6 10  1  6]\n",
            " [ 9  1 11  3  0]\n",
            " [15  3 15  0  2]]\n",
            "\n",
            "Classification Report:\n",
            "              precision    recall  f1-score   support\n",
            "\n",
            "           0       0.27      0.44      0.34        32\n",
            "           1       0.24      0.15      0.18        27\n",
            "           2       0.19      0.31      0.23        32\n",
            "           3       0.43      0.12      0.19        24\n",
            "           4       0.10      0.06      0.07        35\n",
            "\n",
            "    accuracy                           0.22       150\n",
            "   macro avg       0.24      0.22      0.20       150\n",
            "weighted avg       0.23      0.22      0.20       150\n",
            "\n"
          ]
        },
        {
          "output_type": "display_data",
          "data": {
            "text/plain": [
              "<Figure size 1000x800 with 2 Axes>"
            ],
            "image/png": "[encoded data removed]"
          },
          "metadata": {}
        },
        {
          "output_type": "display_data",
          "data": {
            "text/plain": [
              "<Figure size 1200x400 with 2 Axes>"
            ],
            "image/png": "[encoded data removed]"
          },
          "metadata": {}
        },
        {
          "output_type": "stream",
          "name": "stdout",
          "text": [
            "\n",
            "Test Accuracy: 0.2200\n"
          ]
        }
      ]
    }
  ]
}