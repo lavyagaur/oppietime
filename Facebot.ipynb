{
  "nbformat": 4,
  "nbformat_minor": 0,
  "metadata": {
    "colab": {
      "provenance": [],
      "authorship_tag": "ABX9TyNU2P7HZeCcqSZCFBEQ3hHs",
      "include_colab_link": true
    },
    "kernelspec": {
      "name": "python3",
      "display_name": "Python 3"
    },
    "language_info": {
      "name": "python"
    }
  },
  "cells": [
    {
      "cell_type": "markdown",
      "metadata": {
        "id": "view-in-github",
        "colab_type": "text"
      },
      "source": [
        "<a href=\"https://colab.research.google.com/github/lavyagaur/oppietime/blob/main/Facebot.ipynb\" target=\"_parent\"><img src=\"https://colab.research.google.com/assets/colab-badge.svg\" alt=\"Open In Colab\"/></a>"
      ]
    },
    {
      "cell_type": "code",
      "execution_count": 2,
      "metadata": {
        "colab": {
          "base_uri": "https://localhost:8080/"
        },
        "id": "fj6ZUaOtDXcM",
        "outputId": "815e8507-40d4-4d5e-e726-d60925e508ab"
      },
      "outputs": [
        {
          "output_type": "stream",
          "name": "stdout",
          "text": [
            "Requirement already satisfied: streamlit in /usr/local/lib/python3.10/dist-packages (1.40.1)\n",
            "Collecting pyngrok\n",
            "  Downloading pyngrok-7.2.1-py3-none-any.whl.metadata (8.3 kB)\n",
            "Requirement already satisfied: altair<6,>=4.0 in /usr/local/lib/python3.10/dist-packages (from streamlit) (4.2.2)\n",
            "Requirement already satisfied: blinker<2,>=1.0.0 in /usr/local/lib/python3.10/dist-packages (from streamlit) (1.9.0)\n",
            "Requirement already satisfied: cachetools<6,>=4.0 in /usr/local/lib/python3.10/dist-packages (from streamlit) (5.5.0)\n",
            "Requirement already satisfied: click<9,>=7.0 in /usr/local/lib/python3.10/dist-packages (from streamlit) (8.1.7)\n",
            "Requirement already satisfied: numpy<3,>=1.20 in /usr/local/lib/python3.10/dist-packages (from streamlit) (1.26.4)\n",
            "Requirement already satisfied: packaging<25,>=20 in /usr/local/lib/python3.10/dist-packages (from streamlit) (24.2)\n",
            "Requirement already satisfied: pandas<3,>=1.4.0 in /usr/local/lib/python3.10/dist-packages (from streamlit) (2.2.2)\n",
            "Requirement already satisfied: pillow<12,>=7.1.0 in /usr/local/lib/python3.10/dist-packages (from streamlit) (11.0.0)\n",
            "Requirement already satisfied: protobuf<6,>=3.20 in /usr/local/lib/python3.10/dist-packages (from streamlit) (4.25.5)\n",
            "Requirement already satisfied: pyarrow>=7.0 in /usr/local/lib/python3.10/dist-packages (from streamlit) (17.0.0)\n",
            "Requirement already satisfied: requests<3,>=2.27 in /usr/local/lib/python3.10/dist-packages (from streamlit) (2.32.3)\n",
            "Requirement already satisfied: rich<14,>=10.14.0 in /usr/local/lib/python3.10/dist-packages (from streamlit) (13.9.4)\n",
            "Requirement already satisfied: tenacity<10,>=8.1.0 in /usr/local/lib/python3.10/dist-packages (from streamlit) (9.0.0)\n",
            "Requirement already satisfied: toml<2,>=0.10.1 in /usr/local/lib/python3.10/dist-packages (from streamlit) (0.10.2)\n",
            "Requirement already satisfied: typing-extensions<5,>=4.3.0 in /usr/local/lib/python3.10/dist-packages (from streamlit) (4.12.2)\n",
            "Requirement already satisfied: gitpython!=3.1.19,<4,>=3.0.7 in /usr/local/lib/python3.10/dist-packages (from streamlit) (3.1.43)\n",
            "Requirement already satisfied: pydeck<1,>=0.8.0b4 in /usr/local/lib/python3.10/dist-packages (from streamlit) (0.9.1)\n",
            "Requirement already satisfied: tornado<7,>=6.0.3 in /usr/local/lib/python3.10/dist-packages (from streamlit) (6.3.3)\n",
            "Requirement already satisfied: watchdog<7,>=2.1.5 in /usr/local/lib/python3.10/dist-packages (from streamlit) (6.0.0)\n",
            "Requirement already satisfied: PyYAML>=5.1 in /usr/local/lib/python3.10/dist-packages (from pyngrok) (6.0.2)\n",
            "Requirement already satisfied: entrypoints in /usr/local/lib/python3.10/dist-packages (from altair<6,>=4.0->streamlit) (0.4)\n",
            "Requirement already satisfied: jinja2 in /usr/local/lib/python3.10/dist-packages (from altair<6,>=4.0->streamlit) (3.1.4)\n",
            "Requirement already satisfied: jsonschema>=3.0 in /usr/local/lib/python3.10/dist-packages (from altair<6,>=4.0->streamlit) (4.23.0)\n",
            "Requirement already satisfied: toolz in /usr/local/lib/python3.10/dist-packages (from altair<6,>=4.0->streamlit) (0.12.1)\n",
            "Requirement already satisfied: gitdb<5,>=4.0.1 in /usr/local/lib/python3.10/dist-packages (from gitpython!=3.1.19,<4,>=3.0.7->streamlit) (4.0.11)\n",
            "Requirement already satisfied: python-dateutil>=2.8.2 in /usr/local/lib/python3.10/dist-packages (from pandas<3,>=1.4.0->streamlit) (2.8.2)\n",
            "Requirement already satisfied: pytz>=2020.1 in /usr/local/lib/python3.10/dist-packages (from pandas<3,>=1.4.0->streamlit) (2024.2)\n",
            "Requirement already satisfied: tzdata>=2022.7 in /usr/local/lib/python3.10/dist-packages (from pandas<3,>=1.4.0->streamlit) (2024.2)\n",
            "Requirement already satisfied: charset-normalizer<4,>=2 in /usr/local/lib/python3.10/dist-packages (from requests<3,>=2.27->streamlit) (3.4.0)\n",
            "Requirement already satisfied: idna<4,>=2.5 in /usr/local/lib/python3.10/dist-packages (from requests<3,>=2.27->streamlit) (3.10)\n",
            "Requirement already satisfied: urllib3<3,>=1.21.1 in /usr/local/lib/python3.10/dist-packages (from requests<3,>=2.27->streamlit) (2.2.3)\n",
            "Requirement already satisfied: certifi>=2017.4.17 in /usr/local/lib/python3.10/dist-packages (from requests<3,>=2.27->streamlit) (2024.8.30)\n",
            "Requirement already satisfied: markdown-it-py>=2.2.0 in /usr/local/lib/python3.10/dist-packages (from rich<14,>=10.14.0->streamlit) (3.0.0)\n",
            "Requirement already satisfied: pygments<3.0.0,>=2.13.0 in /usr/local/lib/python3.10/dist-packages (from rich<14,>=10.14.0->streamlit) (2.18.0)\n",
            "Requirement already satisfied: smmap<6,>=3.0.1 in /usr/local/lib/python3.10/dist-packages (from gitdb<5,>=4.0.1->gitpython!=3.1.19,<4,>=3.0.7->streamlit) (5.0.1)\n",
            "Requirement already satisfied: MarkupSafe>=2.0 in /usr/local/lib/python3.10/dist-packages (from jinja2->altair<6,>=4.0->streamlit) (3.0.2)\n",
            "Requirement already satisfied: attrs>=22.2.0 in /usr/local/lib/python3.10/dist-packages (from jsonschema>=3.0->altair<6,>=4.0->streamlit) (24.2.0)\n",
            "Requirement already satisfied: jsonschema-specifications>=2023.03.6 in /usr/local/lib/python3.10/dist-packages (from jsonschema>=3.0->altair<6,>=4.0->streamlit) (2024.10.1)\n",
            "Requirement already satisfied: referencing>=0.28.4 in /usr/local/lib/python3.10/dist-packages (from jsonschema>=3.0->altair<6,>=4.0->streamlit) (0.35.1)\n",
            "Requirement already satisfied: rpds-py>=0.7.1 in /usr/local/lib/python3.10/dist-packages (from jsonschema>=3.0->altair<6,>=4.0->streamlit) (0.21.0)\n",
            "Requirement already satisfied: mdurl~=0.1 in /usr/local/lib/python3.10/dist-packages (from markdown-it-py>=2.2.0->rich<14,>=10.14.0->streamlit) (0.1.2)\n",
            "Requirement already satisfied: six>=1.5 in /usr/local/lib/python3.10/dist-packages (from python-dateutil>=2.8.2->pandas<3,>=1.4.0->streamlit) (1.16.0)\n",
            "Downloading pyngrok-7.2.1-py3-none-any.whl (22 kB)\n",
            "Installing collected packages: pyngrok\n",
            "Successfully installed pyngrok-7.2.1\n"
          ]
        }
      ],
      "source": [
        "!pip install streamlit pyngrok"
      ]
    },
    {
      "cell_type": "code",
      "source": [
        "%%writefile chatbot.py\n",
        "import streamlit as st\n",
        "from difflib import get_close_matches\n",
        "\n",
        "responses = {\n",
        "    \"Admission criterion\": \"All applicants are required to appear in Joint Entrance Exam (JEE) Main Paper 1 Conducted by National Testing Agency (NTA). The University shall not conduct its own CET for admissions, but shall be utilizing the merit of JEE Main Paper 1 for its admissions. The admissions would be based on the merit / rank in the JEE.\",\n",
        "    \"Courses offered\": \"The institute offers four-year B. Tech. Programs in Computer Science Engineering (CSE), Electronics and Communication Engineering (ECE), Information Technology (IT), Electrical and Electronics Engineering (EEE).All the courses have the approval of all India Council of Technical Education and affiliated to Guru Gobind Singh Indraprastha University, New Delhi\",\n",
        "    \"Contact details\": \"You can contact the institute at 011-45037193 (B.Tech. only) 011-45656183 (BBA, BCA, B. Com, B.Ed, MBA, LLB)  or email us at director@msit.in\",\n",
        "    \"Fee structure for B.Tech\": \"The total fees is 1,71,600.For more details you can visit the MSIT website\",\n",
        "    \"Management quota admissions contact\": \"For management quota, contact us at 011-45037193 (B.Tech. only) 011-45656183 (BBA, BCA, B. Com, B.Ed, MBA, LLB)  or email us at director@msit.in .\",\n",
        "    \"Placement\": \"The highest package received is 50 LPA(CTC) from companies Microsoft'2022 and Zomato.For more details you can visit the MSIT website\",\n",
        "    \"Eligibility for B.Tech\": \"Eligibility criteria(For Btech Students) include passing class 12 of 10+2 pattern of CBSE or equivalent with a minimum aggregate of 55% marks in Physics, Chemistry and Mathematics provided the candidate has passed in each subject separately. Candidate must additionally have passed English as a subject of study(core/elective/functional) in the qualifying examination.For more details visit the MSIT website \",\n",
        "    \"Out-of-Delhi admissions\": \"For Out-of-Delhi admissions students can contact the institute at 011-45037193 (B.Tech. only) 011-45656183 (BBA, BCA, B. Com, B.Ed, MBA, LLB)  or email us at director@msit.in .\",\n",
        "    \"Institute location\": \"The institute is located at C-4 Janak Puri, New Delhi-110058.\",\n",
        "    \"Facilities provided\": \"Facilities include a library, sports ground, labs,Canteen and Wi-Fi.\",\n",
        "}\n",
        "\n",
        "# Streamlit UI\n",
        "st.title(\"Institute Information Chatbot\")\n",
        "\n",
        "st.write(\"### Frequently Asked Questions\")\n",
        "st.write(\"Ask a question from the list below:\")\n",
        "for question in responses.keys():\n",
        "    st.write(f\"- {question.capitalize()}\")\n",
        "\n",
        "# Input from user\n",
        "st.write(\"### Enter Your Question\")\n",
        "user_input = st.text_input(\"Type your question below:\")\n",
        "\n",
        "# Normalize user input and find a response\n",
        "if user_input:\n",
        "    normalized_input = user_input.strip().lower()\n",
        "\n",
        "    # Fuzzy matching to find the closest match\n",
        "    closest_matches = get_close_matches(normalized_input, responses.keys(), n=1, cutoff=0.6)\n",
        "    if closest_matches:\n",
        "        response = responses[closest_matches[0]]\n",
        "    else:\n",
        "        response = \"Sorry, I don't have an answer for that.\"\n",
        "\n",
        "    st.write(f\"**Answer:** {response}\")"
      ],
      "metadata": {
        "colab": {
          "base_uri": "https://localhost:8080/"
        },
        "id": "MgRiN8ZADpP0",
        "outputId": "4196d7da-37a7-45cd-8c40-7bbaa976d70f"
      },
      "execution_count": 10,
      "outputs": [
        {
          "output_type": "stream",
          "name": "stdout",
          "text": [
            "Overwriting chatbot.py\n"
          ]
        }
      ]
    },
    {
      "cell_type": "code",
      "source": [
        "from pyngrok import ngrok\n",
        "import streamlit as st\n",
        "\n",
        "ngrok.set_auth_token(\"2k3bnc3WrEDiIIWv0JJgUgEYPRX_2Gf9fPA37BVfVyh6eqdiE\")\n",
        "\n",
        "# Kill any existing ngrok tunnels\n",
        "!pkill streamlit\n",
        "\n",
        "# Start the Streamlit app\n",
        "!streamlit run chatbot.py &>/dev/null&\n",
        "\n",
        "# Create the ngrok tunnel\n",
        "public_url = ngrok.connect(8501)\n",
        "print(f\"Access your Streamlit app here: {public_url}\")"
      ],
      "metadata": {
        "colab": {
          "base_uri": "https://localhost:8080/"
        },
        "id": "gzZq9uMxKK_8",
        "outputId": "d1dfd508-3381-4c58-965d-04707fada73b"
      },
      "execution_count": 11,
      "outputs": [
        {
          "output_type": "stream",
          "name": "stdout",
          "text": [
            "Access your Streamlit app here: NgrokTunnel: \"https://230b-34-91-95-178.ngrok-free.app\" -> \"http://localhost:8501\"\n"
          ]
        }
      ]
    },
    {
      "cell_type": "code",
      "source": [
        "!pkill streamlit"
      ],
      "metadata": {
        "id": "3ShE7A83MLkw"
      },
      "execution_count": 12,
      "outputs": []
    }
  ]
}